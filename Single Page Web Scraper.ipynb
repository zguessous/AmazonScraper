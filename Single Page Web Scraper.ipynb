{
 "cells": [
  {
   "cell_type": "code",
   "execution_count": 6,
   "id": "ff85cbe6",
   "metadata": {},
   "outputs": [],
   "source": [
    "# libraries\n",
    "\n",
    "from bs4 import BeautifulSoup\n",
    "import requests\n",
    "import time\n",
    "import datetime\n",
    "\n",
    "import smtplib"
   ]
  },
  {
   "cell_type": "code",
   "execution_count": 20,
   "id": "84bd0f0e",
   "metadata": {},
   "outputs": [
    {
     "name": "stdout",
     "output_type": "stream",
     "text": [
      "Apple MacBook Air 13.6\" with Liquid Retina-Display, M2 Chip with 8-Core CPU and 8-Core GPU, 16GB Memory, 256GB SSD, 30W USB-C Power-Adapter, Midnight, Mid 2022\n",
      "1,399.00\n"
     ]
    }
   ],
   "source": [
    "# connect to Amazon \n",
    "\n",
    "URL = 'https://www.amazon.com/Apple-MacBook-Air-Mid-2022/dp/B0BJVWJKBR/ref=sr_1_9?keywords=macbook+air&qid=1676240206&sprefix=macboo%2Caps%2C274&sr=8-9'\n",
    "\n",
    "headers = {\n",
    "    \"Accept\": \"text/html,application/xhtml+xml,application/xml;q=0.9,*/*;q=0.8\", \n",
    "    \"Accept-Encoding\": \"gzip, deflate\",\n",
    "    \"Accept-Language\": \"en-US,en;q=0.9\", \n",
    "    \"Upgrade-Insecure-Requests\": \"1\", \n",
    "    \"User-Agent\": \"Mozilla/5.0 (Macintosh; Intel Mac OS X 10_15_7) AppleWebKit/605.1.15 (KHTML, like Gecko) Version/16.2 Safari/605.1.15\", \n",
    "    \"X-Amzn-Trace-Id\": \"Root=1-63e958af-6c386ce8422868b561e43c0e\",\n",
    "    \"DNT\":\"1\",\n",
    "    \"Connction\" : \"close\"\n",
    "  }\n",
    "\n",
    "page = requests.get(URL, headers=headers)\n",
    "\n",
    "html_code = BeautifulSoup(page.content, 'html.parser')\n",
    "html_code = BeautifulSoup(html_code.prettify(), 'html.parser')\n",
    "\n",
    "title = html_code.find(id='title').get_text().strip()\n",
    "price = html_code.find(id='price_inside_buybox').get_text().strip()[1:]\n",
    "\n",
    "print(title)\n",
    "print(price)\n",
    "\n"
   ]
  },
  {
   "cell_type": "code",
   "execution_count": null,
   "id": "65c5e5b3",
   "metadata": {},
   "outputs": [],
   "source": []
  }
 ],
 "metadata": {
  "kernelspec": {
   "display_name": "Python 3 (ipykernel)",
   "language": "python",
   "name": "python3"
  },
  "language_info": {
   "codemirror_mode": {
    "name": "ipython",
    "version": 3
   },
   "file_extension": ".py",
   "mimetype": "text/x-python",
   "name": "python",
   "nbconvert_exporter": "python",
   "pygments_lexer": "ipython3",
   "version": "3.9.13"
  }
 },
 "nbformat": 4,
 "nbformat_minor": 5
}
