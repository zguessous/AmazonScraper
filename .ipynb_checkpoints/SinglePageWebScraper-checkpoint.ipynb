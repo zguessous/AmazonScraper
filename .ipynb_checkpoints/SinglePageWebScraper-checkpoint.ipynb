{
 "cells": [
  {
   "cell_type": "code",
   "execution_count": 13,
   "id": "ff85cbe6",
   "metadata": {},
   "outputs": [],
   "source": [
    "# libraries\n",
    "\n",
    "from bs4 import BeautifulSoup\n",
    "import requests\n",
    "import time\n",
    "import datetime\n",
    "import csv\n",
    "import pandas as pd\n",
    "\n",
    "import smtplib"
   ]
  },
  {
   "cell_type": "code",
   "execution_count": 3,
   "id": "84bd0f0e",
   "metadata": {
    "scrolled": true
   },
   "outputs": [
    {
     "name": "stdout",
     "output_type": "stream",
     "text": [
      "Apple MacBook Air 13.6\" with Liquid Retina-Display, M2 Chip with 8-Core CPU and 8-Core GPU, 16GB Memory, 256GB SSD, 30W USB-C Power-Adapter, Midnight, Mid 2022\n",
      "1,399.00\n"
     ]
    }
   ],
   "source": [
    "# connect to Amazon \n",
    "\n",
    "URL = 'https://www.amazon.com/Apple-MacBook-Air-Mid-2022/dp/B0BJVWJKBR/ref=sr_1_9?keywords=macbook+air&qid=1676240206&sprefix=macboo%2Caps%2C274&sr=8-9'\n",
    "\n",
    "headers = {\n",
    "    \"Accept\": \"text/html,application/xhtml+xml,application/xml;q=0.9,*/*;q=0.8\", \n",
    "    \"Accept-Encoding\": \"gzip, deflate\",\n",
    "    \"Accept-Language\": \"en-US,en;q=0.9\", \n",
    "    \"Upgrade-Insecure-Requests\": \"1\", \n",
    "    \"User-Agent\": \"Mozilla/5.0 (Macintosh; Intel Mac OS X 10_15_7) AppleWebKit/605.1.15 (KHTML, like Gecko) Version/16.2 Safari/605.1.15\", \n",
    "    \"X-Amzn-Trace-Id\": \"Root=1-63e958af-6c386ce8422868b561e43c0e\",\n",
    "    \"DNT\":\"1\",\n",
    "    \"Connction\" : \"close\"\n",
    "  }\n",
    "\n",
    "# read title and price off the page\n",
    "\n",
    "page = requests.get(URL, headers=headers)\n",
    "html_code = BeautifulSoup(page.content, 'html.parser')\n",
    "html_code = BeautifulSoup(html_code.prettify(), 'html.parser')\n",
    "title = html_code.find(id='title').get_text().strip()\n",
    "price = html_code.find(id='price_inside_buybox').get_text().strip()[1:]\n",
    "\n",
    "print(title)\n",
    "print(price)\n",
    "\n"
   ]
  },
  {
   "cell_type": "code",
   "execution_count": 18,
   "id": "65c5e5b3",
   "metadata": {},
   "outputs": [],
   "source": [
    "# prep header and data rows\n",
    "\n",
    "csv_header = ['Title', 'Price', 'Created Date']\n",
    "created_date = datetime.date.today()\n",
    "data = [title, price, created_date]\n",
    "\n",
    "# create csv and insert header and data\n",
    "\n",
    "with open ('amzwebscraper_data.csv', 'w', newline='', encoding='UTF8') as f:\n",
    "    writer = csv.writer(f)\n",
    "    writer.writerow(csv_header)\n",
    "    writer.writerow(data)\n",
    "\n"
   ]
  },
  {
   "cell_type": "code",
   "execution_count": 19,
   "id": "755b88e2",
   "metadata": {},
   "outputs": [
    {
     "name": "stdout",
     "output_type": "stream",
     "text": [
      "                                               Title     Price Created Date\n",
      "0  Apple MacBook Air 13.6\" with Liquid Retina-Dis...  1,399.00   2023-02-15\n"
     ]
    }
   ],
   "source": [
    "df = pd.read_csv('/Users/zinebguessous/repos/AmazonScraper/amzwebscraper_data.csv')\n",
    "print(df)"
   ]
  },
  {
   "cell_type": "code",
   "execution_count": null,
   "id": "d115f5a2",
   "metadata": {},
   "outputs": [],
   "source": [
    "with open ('amzwebscraper_data.csv', 'a+', newline='', encoding='UTF8') as f:\n",
    "    writer = csv.writer(f)\n",
    "    writer.writerow(data)"
   ]
  },
  {
   "cell_type": "code",
   "execution_count": 35,
   "id": "70aaed07",
   "metadata": {},
   "outputs": [],
   "source": [
    "def check_price():\n",
    "    \n",
    "    # connect to Amazon \n",
    "    \n",
    "    URL = 'https://www.amazon.com/Apple-MacBook-Air-Mid-2022/dp/B0BJVWJKBR/ref=sr_1_9?keywords=macbook+air&qid=1676240206&sprefix=macboo%2Caps%2C274&sr=8-9'\n",
    "    headers = {\n",
    "        \"Accept\": \"text/html,application/xhtml+xml,application/xml;q=0.9,*/*;q=0.8\", \n",
    "        \"Accept-Encoding\": \"gzip, deflate\",\n",
    "        \"Accept-Language\": \"en-US,en;q=0.9\", \n",
    "        \"Upgrade-Insecure-Requests\": \"1\", \n",
    "        \"User-Agent\": \"Mozilla/5.0 (Macintosh; Intel Mac OS X 10_15_7) AppleWebKit/605.1.15 (KHTML, like Gecko) Version/16.2 Safari/605.1.15\", \n",
    "        \"X-Amzn-Trace-Id\": \"Root=1-63e958af-6c386ce8422868b561e43c0e\",\n",
    "        \"DNT\":\"1\",\n",
    "        \"Connction\" : \"close\"\n",
    "      }\n",
    "    \n",
    "    # read title and price off the page\n",
    "    \n",
    "    page = requests.get(URL, headers=headers)\n",
    "    html_code = BeautifulSoup(page.content, 'html.parser')\n",
    "    html_code = BeautifulSoup(html_code.prettify(), 'html.parser')\n",
    "    title = html_code.find(id='title').get_text().strip()\n",
    "    price = html_code.find(id='price_inside_buybox').get_text().strip()[1:]\n",
    "    \n",
    "    # prep data row\n",
    "    \n",
    "    created_date = datetime.date.today()\n",
    "    data = [title, price, created_date]\n",
    "    \n",
    "    # append data row\n",
    "    \n",
    "    with open ('amzwebscraper_data.csv', 'a+', newline='', encoding='UTF8') as f:\n",
    "        writer = csv.writer(f)\n",
    "        writer.writerow(data)\n",
    "    "
   ]
  },
  {
   "cell_type": "code",
   "execution_count": 36,
   "id": "c8b4e2eb",
   "metadata": {},
   "outputs": [
    {
     "ename": "KeyboardInterrupt",
     "evalue": "",
     "output_type": "error",
     "traceback": [
      "\u001b[0;31m---------------------------------------------------------------------------\u001b[0m",
      "\u001b[0;31mKeyboardInterrupt\u001b[0m                         Traceback (most recent call last)",
      "\u001b[0;32m/var/folders/h7/ydprq6m179xf838h1l2_y23m0000gn/T/ipykernel_2498/4212351095.py\u001b[0m in \u001b[0;36m<module>\u001b[0;34m\u001b[0m\n\u001b[1;32m      1\u001b[0m \u001b[0;32mwhile\u001b[0m\u001b[0;34m(\u001b[0m\u001b[0;32mTrue\u001b[0m\u001b[0;34m)\u001b[0m\u001b[0;34m:\u001b[0m\u001b[0;34m\u001b[0m\u001b[0;34m\u001b[0m\u001b[0m\n\u001b[1;32m      2\u001b[0m     \u001b[0mcheck_price\u001b[0m\u001b[0;34m(\u001b[0m\u001b[0;34m)\u001b[0m\u001b[0;34m\u001b[0m\u001b[0;34m\u001b[0m\u001b[0m\n\u001b[0;32m----> 3\u001b[0;31m     \u001b[0mtime\u001b[0m\u001b[0;34m.\u001b[0m\u001b[0msleep\u001b[0m\u001b[0;34m(\u001b[0m\u001b[0;36m5\u001b[0m\u001b[0;34m)\u001b[0m\u001b[0;34m\u001b[0m\u001b[0;34m\u001b[0m\u001b[0m\n\u001b[0m",
      "\u001b[0;31mKeyboardInterrupt\u001b[0m: "
     ]
    }
   ],
   "source": [
    "while(True):\n",
    "    check_price()\n",
    "    time.sleep(5)"
   ]
  },
  {
   "cell_type": "code",
   "execution_count": 37,
   "id": "75dfe7f2",
   "metadata": {},
   "outputs": [
    {
     "name": "stdout",
     "output_type": "stream",
     "text": [
      "                                               Title     Price Created Date\n",
      "0  Apple MacBook Air 13.6\" with Liquid Retina-Dis...  1,399.00   2023-02-15\n",
      "1  Apple MacBook Air 13.6\" with Liquid Retina-Dis...  1,399.00   2023-02-15\n",
      "2  Apple MacBook Air 13.6\" with Liquid Retina-Dis...  1,399.00   2023-02-15\n",
      "3  Apple MacBook Air 13.6\" with Liquid Retina-Dis...  1,399.00   2023-02-15\n",
      "4  Apple MacBook Air 13.6\" with Liquid Retina-Dis...  1,399.00   2023-02-15\n",
      "5  Apple MacBook Air 13.6\" with Liquid Retina-Dis...  1,399.00   2023-02-15\n"
     ]
    }
   ],
   "source": [
    "df = pd.read_csv('/Users/zinebguessous/repos/AmazonScraper/amzwebscraper_data.csv')\n",
    "print(df)"
   ]
  }
 ],
 "metadata": {
  "kernelspec": {
   "display_name": "Python 3 (ipykernel)",
   "language": "python",
   "name": "python3"
  },
  "language_info": {
   "codemirror_mode": {
    "name": "ipython",
    "version": 3
   },
   "file_extension": ".py",
   "mimetype": "text/x-python",
   "name": "python",
   "nbconvert_exporter": "python",
   "pygments_lexer": "ipython3",
   "version": "3.9.13"
  }
 },
 "nbformat": 4,
 "nbformat_minor": 5
}
