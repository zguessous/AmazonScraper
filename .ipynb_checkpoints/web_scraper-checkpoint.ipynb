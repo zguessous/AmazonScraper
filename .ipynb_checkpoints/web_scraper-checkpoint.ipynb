{
 "cells": [
  {
   "cell_type": "code",
   "execution_count": 1,
   "id": "df5548d9",
   "metadata": {},
   "outputs": [],
   "source": [
    "from bs4 import BeautifulSoup\n",
    "import requests\n",
    "import pandas as pd"
   ]
  },
  {
   "cell_type": "code",
   "execution_count": 14,
   "id": "a60b4373",
   "metadata": {},
   "outputs": [],
   "source": [
    "# url of website to be scraped\n",
    "URL = 'https://www.amazon.fr/s?k=adidas+forum+low&__mk_fr_FR=ÅMÅŽÕÑ&crid=22Q19A81Q1VU8&sprefix=adidas+forum+low%2Caps%2C163&ref=nb_sb_noss_1'\n",
    "\n",
    "# headers for request\n",
    "_headers = ({'User-Agent':'https://explore.whatismybrowser.com/useragents/parse/?analyse-my-user-agent=yes&user-agent=Mozilla/5.0%20%28Macintosh%3B%20Intel%20Mac%20OS%20X%2010_15_7%29%20AppleWebKit/605.1.15%20%28KHTML%2C%20like%20Gecko%29%20Version/16.2%20Safari/605.1.15#parse-useragent', 'Accept-Language':'en-US, en;q=0.5'})"
   ]
  },
  {
   "cell_type": "code",
   "execution_count": 15,
   "id": "0c433349",
   "metadata": {},
   "outputs": [],
   "source": [
    "# http request\n",
    "webpage = requests.get(URL, headers=_headers)"
   ]
  },
  {
   "cell_type": "code",
   "execution_count": 30,
   "id": "fe672e94",
   "metadata": {},
   "outputs": [],
   "source": [
    "# soup object for page content\n",
    "soup = BeautifulSoup(webpage.content, \"html.parser\")\n",
    "\n",
    "#fetch page result links as a List of tag objects\n",
    "links = soup.find_all(\"a\", attrs={'class':'a-link-normal s-underline-text s-underline-link-text s-link-style a-text-normal'})\n",
    "link = links[0].get('href')\n",
    "\n",
    "product_page = \"https://www.amazon.fr\" + link"
   ]
  },
  {
   "cell_type": "code",
   "execution_count": 31,
   "id": "9348642e",
   "metadata": {},
   "outputs": [
    {
     "name": "stdout",
     "output_type": "stream",
     "text": [
      "https://www.amazon.fr/adidas-Forum-Basket-Homme-White/dp/B08VF34DKR/ref=sr_1_1?__mk_fr_FR=%C3%85M%C3%85%C5%BD%C3%95%C3%91&crid=22Q19A81Q1VU8&keywords=adidas+forum+low&qid=1676928200&sprefix=adidas+forum+low%2Caps%2C163&sr=8-1\n"
     ]
    }
   ],
   "source": [
    "print(product_page)"
   ]
  },
  {
   "cell_type": "code",
   "execution_count": null,
   "id": "8ca30d85",
   "metadata": {},
   "outputs": [],
   "source": []
  }
 ],
 "metadata": {
  "kernelspec": {
   "display_name": "Python 3 (ipykernel)",
   "language": "python",
   "name": "python3"
  },
  "language_info": {
   "codemirror_mode": {
    "name": "ipython",
    "version": 3
   },
   "file_extension": ".py",
   "mimetype": "text/x-python",
   "name": "python",
   "nbconvert_exporter": "python",
   "pygments_lexer": "ipython3",
   "version": "3.9.13"
  }
 },
 "nbformat": 4,
 "nbformat_minor": 5
}
